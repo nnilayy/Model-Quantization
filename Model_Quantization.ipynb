{
  "nbformat": 4,
  "nbformat_minor": 0,
  "metadata": {
    "colab": {
      "provenance": [],
      "authorship_tag": "ABX9TyPfqhfDERGYVEwQKk5VC8BF",
      "include_colab_link": true
    },
    "kernelspec": {
      "name": "python3",
      "display_name": "Python 3"
    },
    "language_info": {
      "name": "python"
    },
    "gpuClass": "standard"
  },
  "cells": [
    {
      "cell_type": "markdown",
      "metadata": {
        "id": "view-in-github",
        "colab_type": "text"
      },
      "source": [
        "<a href=\"https://colab.research.google.com/github/nnilayy/Model-Quantization/blob/main/Model_Quantization.ipynb\" target=\"_parent\"><img src=\"https://colab.research.google.com/assets/colab-badge.svg\" alt=\"Open In Colab\"/></a>"
      ]
    },
    {
      "cell_type": "code",
      "source": [
        "from google.colab import drive\n",
        "drive.mount('/content/drive')"
      ],
      "metadata": {
        "id": "esJE2uN6zlsL"
      },
      "execution_count": null,
      "outputs": []
    },
    {
      "cell_type": "code",
      "execution_count": 3,
      "metadata": {
        "id": "X8n7AXkkmbg6"
      },
      "outputs": [],
      "source": [
        "import os\n",
        "def get_file_size(file_path):\n",
        "  size=os.path.getsize(file_path)\n",
        "  return size"
      ]
    },
    {
      "cell_type": "code",
      "source": [
        "def convert_bytes(size,unit=None):\n",
        "  if unit==\"KB\":\n",
        "    return print(\"File size: \"+str(round(size/1024,3))+\" Kilobytes\")\n",
        "  elif unit==\"MB\":\n",
        "    return print(\"File size: \"+str(round(size/(1024*1024),3))+\" Megabytes\")\n",
        "  else:\n",
        "    return print(\"File size: \"+str(size)+\"bytes\")"
      ],
      "metadata": {
        "id": "CwszOo31rBJb"
      },
      "execution_count": 8,
      "outputs": []
    },
    {
      "cell_type": "code",
      "source": [
        "model=\"/content/drive/MyDrive/Unet_weights/484_K.h5\"\n",
        "convert_bytes(get_file_size(model),\"MB\")"
      ],
      "metadata": {
        "id": "8reQAGp8rruD"
      },
      "execution_count": null,
      "outputs": []
    },
    {
      "cell_type": "markdown",
      "source": [
        "## TFLite Model"
      ],
      "metadata": {
        "id": "cD6d97txukdt"
      }
    },
    {
      "cell_type": "code",
      "source": [
        "import tensorflow as tf\n",
        "model=tf.keras.models.load_model(\"/content/drive/MyDrive/Unet_weights/484_K.h5\")\n",
        "converter = tf.lite.TFLiteConverter.from_keras_model(model)\n",
        "converter.optimizations=[tf.lite.Optimize.DEFAULT]\n",
        "\n",
        "converter.experimental_new_converter = True\n",
        "tflite_model = converter.convert()\n",
        "with open(\"optimize_model.tflite\",\"wb\") as model:\n",
        "  model.write(tflite_model)\n",
        "# open(\"converted_model.tflite\", \"wb\").write(tflite_model) "
      ],
      "metadata": {
        "id": "0AQRk7sYzU-J"
      },
      "execution_count": null,
      "outputs": []
    },
    {
      "cell_type": "code",
      "source": [
        "model=\"/content/drive/MyDrive/Unet_weights/optimize_model.tflite\"\n",
        "convert_bytes(get_file_size(model),\"MB\")"
      ],
      "metadata": {
        "id": "fOqohT2y1FC4"
      },
      "execution_count": null,
      "outputs": []
    },
    {
      "cell_type": "markdown",
      "source": [
        "## Post Training Quantization"
      ],
      "metadata": {
        "id": "rePZUmFM17zw"
      }
    },
    {
      "cell_type": "code",
      "source": [
        "# https://www.youtube.com/watch?v=IuyTC-_otGw\n",
        "# https://www.youtube.com/watch?v=HXzz87WVm6c\n",
        "# https://www.youtube.com/watch?v=VPY7Itw6aiA"
      ],
      "metadata": {
        "id": "eYrGvhfH15O-"
      },
      "execution_count": null,
      "outputs": []
    },
    {
      "cell_type": "markdown",
      "source": [
        "## Increasing Accuracy of Model"
      ],
      "metadata": {
        "id": "LRURHwir79mD"
      }
    },
    {
      "cell_type": "code",
      "source": [
        "# Using Pretrained Convolutional Layers \n",
        "# Better Variant Dataset "
      ],
      "metadata": {
        "id": "cuwa66bJ78xG"
      },
      "execution_count": null,
      "outputs": []
    }
  ]
}