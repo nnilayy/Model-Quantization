{
  "nbformat": 4,
  "nbformat_minor": 0,
  "metadata": {
    "colab": {
      "provenance": [],
      "authorship_tag": "ABX9TyOEsGRHPmSsoPXYmTK7STkc",
      "include_colab_link": true
    },
    "kernelspec": {
      "name": "python3",
      "display_name": "Python 3"
    },
    "language_info": {
      "name": "python"
    },
    "gpuClass": "standard"
  },
  "cells": [
    {
      "cell_type": "markdown",
      "metadata": {
        "id": "view-in-github",
        "colab_type": "text"
      },
      "source": [
        "<a href=\"https://colab.research.google.com/github/nnilayy/Model-Quantization/blob/main/Model_Quantization.ipynb\" target=\"_parent\"><img src=\"https://colab.research.google.com/assets/colab-badge.svg\" alt=\"Open In Colab\"/></a>"
      ]
    },
    {
      "cell_type": "code",
      "execution_count": 3,
      "metadata": {
        "id": "X8n7AXkkmbg6"
      },
      "outputs": [],
      "source": [
        "import os\n",
        "def get_file_size(file_path):\n",
        "  size=os.path.getsize(file_path)\n",
        "  return size"
      ]
    },
    {
      "cell_type": "code",
      "source": [
        "def convert_bytes(size,unit=None):\n",
        "  if unit==\"KB\":\n",
        "    return print(\"File size: \"+str(round(size/1024,3))+\"Kilobytes\")\n",
        "  elif unit==\"MB\":\n",
        "    return print(\"File size: \"+str(round(size/1024*1024,3))+\"Megabytes\")\n",
        "  else:\n",
        "    return print(\"File size: \"+str(size)+\"bytes\")"
      ],
      "metadata": {
        "id": "CwszOo31rBJb"
      },
      "execution_count": 1,
      "outputs": []
    },
    {
      "cell_type": "code",
      "source": [],
      "metadata": {
        "id": "8reQAGp8rruD"
      },
      "execution_count": null,
      "outputs": []
    }
  ]
}